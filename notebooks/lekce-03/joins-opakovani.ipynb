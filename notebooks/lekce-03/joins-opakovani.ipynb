{
 "cells": [
  {
   "cell_type": "code",
   "execution_count": 24,
   "metadata": {},
   "outputs": [],
   "source": [
    "import pandas as pd"
   ]
  },
  {
   "cell_type": "markdown",
   "metadata": {},
   "source": [
    "Vytvoření DataFrames"
   ]
  },
  {
   "cell_type": "code",
   "execution_count": 25,
   "metadata": {},
   "outputs": [],
   "source": [
    "# Vytvoření DataFrame 'mazlicci'\n",
    "mazlicci = pd.DataFrame({\n",
    "    'mazlicek_id': [1, 2, 3, 4],\n",
    "    'jmeno': ['Rex', 'Mia', 'Oreo', 'Bella'],\n",
    "    'typ': ['Pes', 'Kočka', 'Pes', 'Kočka'],\n",
    "    'vek': [5, 3, 2, 4]\n",
    "})\n",
    "\n",
    "# Vytvoření DataFrame 'hracky'\n",
    "hracky = pd.DataFrame({\n",
    "    'hracka_id': ['H1', 'H2', 'H3', 'H4'],\n",
    "    'nazev_hracky': ['Kost', 'Pískací myš', 'Lanové hračky', 'Míček'],\n",
    "    'mazlicek_id': [1, 2, 1, 4],\n",
    "    'cena': [200, 150, 300, 100]\n",
    "})\n",
    "\n",
    "# Vytvoření DataFrame 'prodeje'\n",
    "prodeje = pd.DataFrame({\n",
    "    'prodej_id': [101, 102, 103, 104],\n",
    "    'hracka_id': ['H1', 'H2', 'H3', 'H1'],\n",
    "    'datum': ['2023-01-15', '2023-01-17', '2023-01-18', '2023-01-19'],\n",
    "    'mnozstvi': [2, 1, 1, 3]\n",
    "})"
   ]
  },
  {
   "cell_type": "markdown",
   "metadata": {},
   "source": [
    "Spojíme tabulky mazlicci a hracky, abychom zjistili, které hračky mají které mazlíčky."
   ]
  },
  {
   "cell_type": "code",
   "execution_count": 26,
   "metadata": {},
   "outputs": [
    {
     "data": {
      "text/html": [
       "<div>\n",
       "<style scoped>\n",
       "    .dataframe tbody tr th:only-of-type {\n",
       "        vertical-align: middle;\n",
       "    }\n",
       "\n",
       "    .dataframe tbody tr th {\n",
       "        vertical-align: top;\n",
       "    }\n",
       "\n",
       "    .dataframe thead th {\n",
       "        text-align: right;\n",
       "    }\n",
       "</style>\n",
       "<table border=\"1\" class=\"dataframe\">\n",
       "  <thead>\n",
       "    <tr style=\"text-align: right;\">\n",
       "      <th></th>\n",
       "      <th>mazlicek_id</th>\n",
       "      <th>jmeno</th>\n",
       "      <th>typ</th>\n",
       "      <th>vek</th>\n",
       "      <th>hracka_id</th>\n",
       "      <th>nazev_hracky</th>\n",
       "      <th>cena</th>\n",
       "    </tr>\n",
       "  </thead>\n",
       "  <tbody>\n",
       "    <tr>\n",
       "      <th>0</th>\n",
       "      <td>1</td>\n",
       "      <td>Rex</td>\n",
       "      <td>Pes</td>\n",
       "      <td>5</td>\n",
       "      <td>H1</td>\n",
       "      <td>Kost</td>\n",
       "      <td>200</td>\n",
       "    </tr>\n",
       "    <tr>\n",
       "      <th>1</th>\n",
       "      <td>1</td>\n",
       "      <td>Rex</td>\n",
       "      <td>Pes</td>\n",
       "      <td>5</td>\n",
       "      <td>H3</td>\n",
       "      <td>Lanové hračky</td>\n",
       "      <td>300</td>\n",
       "    </tr>\n",
       "    <tr>\n",
       "      <th>2</th>\n",
       "      <td>2</td>\n",
       "      <td>Mia</td>\n",
       "      <td>Kočka</td>\n",
       "      <td>3</td>\n",
       "      <td>H2</td>\n",
       "      <td>Pískací myš</td>\n",
       "      <td>150</td>\n",
       "    </tr>\n",
       "    <tr>\n",
       "      <th>3</th>\n",
       "      <td>4</td>\n",
       "      <td>Bella</td>\n",
       "      <td>Kočka</td>\n",
       "      <td>4</td>\n",
       "      <td>H4</td>\n",
       "      <td>Míček</td>\n",
       "      <td>100</td>\n",
       "    </tr>\n",
       "  </tbody>\n",
       "</table>\n",
       "</div>"
      ],
      "text/plain": [
       "   mazlicek_id  jmeno    typ  vek hracka_id   nazev_hracky  cena\n",
       "0            1    Rex    Pes    5        H1           Kost   200\n",
       "1            1    Rex    Pes    5        H3  Lanové hračky   300\n",
       "2            2    Mia  Kočka    3        H2    Pískací myš   150\n",
       "3            4  Bella  Kočka    4        H4          Míček   100"
      ]
     },
     "execution_count": 26,
     "metadata": {},
     "output_type": "execute_result"
    }
   ],
   "source": [
    "# Inner Join\n",
    "merged_df = pd.merge(mazlicci, hracky, on='mazlicek_id', how='inner')\n",
    "merged_df"
   ]
  },
  {
   "cell_type": "markdown",
   "metadata": {},
   "source": [
    "Spojíme tabulky mazlicci a hracky, abychom viděli všechny mazlíčky a jejich hračky, i když nějaký mazlíček hračku nemá."
   ]
  },
  {
   "cell_type": "code",
   "execution_count": 27,
   "metadata": {},
   "outputs": [
    {
     "data": {
      "text/html": [
       "<div>\n",
       "<style scoped>\n",
       "    .dataframe tbody tr th:only-of-type {\n",
       "        vertical-align: middle;\n",
       "    }\n",
       "\n",
       "    .dataframe tbody tr th {\n",
       "        vertical-align: top;\n",
       "    }\n",
       "\n",
       "    .dataframe thead th {\n",
       "        text-align: right;\n",
       "    }\n",
       "</style>\n",
       "<table border=\"1\" class=\"dataframe\">\n",
       "  <thead>\n",
       "    <tr style=\"text-align: right;\">\n",
       "      <th></th>\n",
       "      <th>mazlicek_id</th>\n",
       "      <th>jmeno</th>\n",
       "      <th>typ</th>\n",
       "      <th>vek</th>\n",
       "      <th>hracka_id</th>\n",
       "      <th>nazev_hracky</th>\n",
       "      <th>cena</th>\n",
       "    </tr>\n",
       "  </thead>\n",
       "  <tbody>\n",
       "    <tr>\n",
       "      <th>0</th>\n",
       "      <td>1</td>\n",
       "      <td>Rex</td>\n",
       "      <td>Pes</td>\n",
       "      <td>5</td>\n",
       "      <td>H1</td>\n",
       "      <td>Kost</td>\n",
       "      <td>200.0</td>\n",
       "    </tr>\n",
       "    <tr>\n",
       "      <th>1</th>\n",
       "      <td>1</td>\n",
       "      <td>Rex</td>\n",
       "      <td>Pes</td>\n",
       "      <td>5</td>\n",
       "      <td>H3</td>\n",
       "      <td>Lanové hračky</td>\n",
       "      <td>300.0</td>\n",
       "    </tr>\n",
       "    <tr>\n",
       "      <th>2</th>\n",
       "      <td>2</td>\n",
       "      <td>Mia</td>\n",
       "      <td>Kočka</td>\n",
       "      <td>3</td>\n",
       "      <td>H2</td>\n",
       "      <td>Pískací myš</td>\n",
       "      <td>150.0</td>\n",
       "    </tr>\n",
       "    <tr>\n",
       "      <th>3</th>\n",
       "      <td>3</td>\n",
       "      <td>Oreo</td>\n",
       "      <td>Pes</td>\n",
       "      <td>2</td>\n",
       "      <td>NaN</td>\n",
       "      <td>NaN</td>\n",
       "      <td>NaN</td>\n",
       "    </tr>\n",
       "    <tr>\n",
       "      <th>4</th>\n",
       "      <td>4</td>\n",
       "      <td>Bella</td>\n",
       "      <td>Kočka</td>\n",
       "      <td>4</td>\n",
       "      <td>H4</td>\n",
       "      <td>Míček</td>\n",
       "      <td>100.0</td>\n",
       "    </tr>\n",
       "  </tbody>\n",
       "</table>\n",
       "</div>"
      ],
      "text/plain": [
       "   mazlicek_id  jmeno    typ  vek hracka_id   nazev_hracky   cena\n",
       "0            1    Rex    Pes    5        H1           Kost  200.0\n",
       "1            1    Rex    Pes    5        H3  Lanové hračky  300.0\n",
       "2            2    Mia  Kočka    3        H2    Pískací myš  150.0\n",
       "3            3   Oreo    Pes    2       NaN            NaN    NaN\n",
       "4            4  Bella  Kočka    4        H4          Míček  100.0"
      ]
     },
     "execution_count": 27,
     "metadata": {},
     "output_type": "execute_result"
    }
   ],
   "source": [
    "# Left Join\n",
    "left_joined_df = pd.merge(mazlicci, hracky, on='mazlicek_id', how='left')\n",
    "left_joined_df"
   ]
  },
  {
   "cell_type": "markdown",
   "metadata": {},
   "source": [
    "Spočítáme celkovou cenu hraček podle typu mazlíčka."
   ]
  },
  {
   "cell_type": "code",
   "execution_count": 28,
   "metadata": {},
   "outputs": [
    {
     "data": {
      "text/html": [
       "<div>\n",
       "<style scoped>\n",
       "    .dataframe tbody tr th:only-of-type {\n",
       "        vertical-align: middle;\n",
       "    }\n",
       "\n",
       "    .dataframe tbody tr th {\n",
       "        vertical-align: top;\n",
       "    }\n",
       "\n",
       "    .dataframe thead th {\n",
       "        text-align: right;\n",
       "    }\n",
       "</style>\n",
       "<table border=\"1\" class=\"dataframe\">\n",
       "  <thead>\n",
       "    <tr style=\"text-align: right;\">\n",
       "      <th></th>\n",
       "      <th>typ</th>\n",
       "      <th>cena</th>\n",
       "    </tr>\n",
       "  </thead>\n",
       "  <tbody>\n",
       "    <tr>\n",
       "      <th>0</th>\n",
       "      <td>Kočka</td>\n",
       "      <td>250</td>\n",
       "    </tr>\n",
       "    <tr>\n",
       "      <th>1</th>\n",
       "      <td>Pes</td>\n",
       "      <td>500</td>\n",
       "    </tr>\n",
       "  </tbody>\n",
       "</table>\n",
       "</div>"
      ],
      "text/plain": [
       "     typ  cena\n",
       "0  Kočka   250\n",
       "1    Pes   500"
      ]
     },
     "execution_count": 28,
     "metadata": {},
     "output_type": "execute_result"
    }
   ],
   "source": [
    "grouped_df = merged_df.groupby('typ')['cena'].sum().reset_index()\n",
    "grouped_df"
   ]
  },
  {
   "cell_type": "markdown",
   "metadata": {},
   "source": [
    "Spočítáme průměrnou a celkovou cenu hraček pro každý typ mazlíčka."
   ]
  },
  {
   "cell_type": "code",
   "execution_count": 29,
   "metadata": {},
   "outputs": [
    {
     "data": {
      "text/html": [
       "<div>\n",
       "<style scoped>\n",
       "    .dataframe tbody tr th:only-of-type {\n",
       "        vertical-align: middle;\n",
       "    }\n",
       "\n",
       "    .dataframe tbody tr th {\n",
       "        vertical-align: top;\n",
       "    }\n",
       "\n",
       "    .dataframe thead th {\n",
       "        text-align: right;\n",
       "    }\n",
       "</style>\n",
       "<table border=\"1\" class=\"dataframe\">\n",
       "  <thead>\n",
       "    <tr style=\"text-align: right;\">\n",
       "      <th></th>\n",
       "      <th>typ</th>\n",
       "      <th>mean</th>\n",
       "      <th>sum</th>\n",
       "    </tr>\n",
       "  </thead>\n",
       "  <tbody>\n",
       "    <tr>\n",
       "      <th>0</th>\n",
       "      <td>Kočka</td>\n",
       "      <td>125.0</td>\n",
       "      <td>250</td>\n",
       "    </tr>\n",
       "    <tr>\n",
       "      <th>1</th>\n",
       "      <td>Pes</td>\n",
       "      <td>250.0</td>\n",
       "      <td>500</td>\n",
       "    </tr>\n",
       "  </tbody>\n",
       "</table>\n",
       "</div>"
      ],
      "text/plain": [
       "     typ   mean  sum\n",
       "0  Kočka  125.0  250\n",
       "1    Pes  250.0  500"
      ]
     },
     "execution_count": 29,
     "metadata": {},
     "output_type": "execute_result"
    }
   ],
   "source": [
    "agg_df = merged_df.groupby('typ')['cena'].agg(['mean', 'sum']).reset_index()\n",
    "agg_df"
   ]
  },
  {
   "cell_type": "markdown",
   "metadata": {},
   "source": [
    "Spočítáme celkové množství prodaných hraček a celkové tržby (cena * množství) podle mazlíčků."
   ]
  },
  {
   "cell_type": "code",
   "execution_count": 36,
   "metadata": {},
   "outputs": [
    {
     "data": {
      "text/html": [
       "<div>\n",
       "<style scoped>\n",
       "    .dataframe tbody tr th:only-of-type {\n",
       "        vertical-align: middle;\n",
       "    }\n",
       "\n",
       "    .dataframe tbody tr th {\n",
       "        vertical-align: top;\n",
       "    }\n",
       "\n",
       "    .dataframe thead th {\n",
       "        text-align: right;\n",
       "    }\n",
       "</style>\n",
       "<table border=\"1\" class=\"dataframe\">\n",
       "  <thead>\n",
       "    <tr style=\"text-align: right;\">\n",
       "      <th></th>\n",
       "      <th>prodej_id</th>\n",
       "      <th>hracka_id</th>\n",
       "      <th>datum</th>\n",
       "      <th>mnozstvi</th>\n",
       "    </tr>\n",
       "  </thead>\n",
       "  <tbody>\n",
       "    <tr>\n",
       "      <th>0</th>\n",
       "      <td>101</td>\n",
       "      <td>H1</td>\n",
       "      <td>2023-01-15</td>\n",
       "      <td>2</td>\n",
       "    </tr>\n",
       "    <tr>\n",
       "      <th>1</th>\n",
       "      <td>102</td>\n",
       "      <td>H2</td>\n",
       "      <td>2023-01-17</td>\n",
       "      <td>1</td>\n",
       "    </tr>\n",
       "    <tr>\n",
       "      <th>2</th>\n",
       "      <td>103</td>\n",
       "      <td>H3</td>\n",
       "      <td>2023-01-18</td>\n",
       "      <td>1</td>\n",
       "    </tr>\n",
       "    <tr>\n",
       "      <th>3</th>\n",
       "      <td>104</td>\n",
       "      <td>H1</td>\n",
       "      <td>2023-01-19</td>\n",
       "      <td>3</td>\n",
       "    </tr>\n",
       "  </tbody>\n",
       "</table>\n",
       "</div>"
      ],
      "text/plain": [
       "   prodej_id hracka_id       datum  mnozstvi\n",
       "0        101        H1  2023-01-15         2\n",
       "1        102        H2  2023-01-17         1\n",
       "2        103        H3  2023-01-18         1\n",
       "3        104        H1  2023-01-19         3"
      ]
     },
     "execution_count": 36,
     "metadata": {},
     "output_type": "execute_result"
    }
   ],
   "source": [
    "prodeje"
   ]
  },
  {
   "cell_type": "code",
   "execution_count": 37,
   "metadata": {},
   "outputs": [
    {
     "data": {
      "text/html": [
       "<div>\n",
       "<style scoped>\n",
       "    .dataframe tbody tr th:only-of-type {\n",
       "        vertical-align: middle;\n",
       "    }\n",
       "\n",
       "    .dataframe tbody tr th {\n",
       "        vertical-align: top;\n",
       "    }\n",
       "\n",
       "    .dataframe thead th {\n",
       "        text-align: right;\n",
       "    }\n",
       "</style>\n",
       "<table border=\"1\" class=\"dataframe\">\n",
       "  <thead>\n",
       "    <tr style=\"text-align: right;\">\n",
       "      <th></th>\n",
       "      <th>jmeno</th>\n",
       "      <th>mnozstvi</th>\n",
       "      <th>trzby</th>\n",
       "    </tr>\n",
       "  </thead>\n",
       "  <tbody>\n",
       "    <tr>\n",
       "      <th>0</th>\n",
       "      <td>Mia</td>\n",
       "      <td>1</td>\n",
       "      <td>150</td>\n",
       "    </tr>\n",
       "    <tr>\n",
       "      <th>1</th>\n",
       "      <td>Rex</td>\n",
       "      <td>6</td>\n",
       "      <td>1300</td>\n",
       "    </tr>\n",
       "  </tbody>\n",
       "</table>\n",
       "</div>"
      ],
      "text/plain": [
       "  jmeno  mnozstvi  trzby\n",
       "0   Mia         1    150\n",
       "1   Rex         6   1300"
      ]
     },
     "execution_count": 37,
     "metadata": {},
     "output_type": "execute_result"
    }
   ],
   "source": [
    "# Spojení tabulek hracky a prodeje\n",
    "hracky_prodeje = pd.merge(hracky, prodeje, on='hracka_id', how='inner')\n",
    "\n",
    "# Spojení s tabulkou mazlicci\n",
    "mazlicci_hracky_prodeje = pd.merge(\n",
    "    mazlicci, hracky_prodeje, on='mazlicek_id', how='inner')\n",
    "\n",
    "# Výpočet celkové tržby\n",
    "mazlicci_hracky_prodeje['trzby'] = mazlicci_hracky_prodeje['cena'] *  mazlicci_hracky_prodeje['mnozstvi']\n",
    "\n",
    "# Agregace podle jména mazlíčka\n",
    "agg_df = mazlicci_hracky_prodeje.groupby(\n",
    "    'jmeno')[['mnozstvi', 'trzby']].sum().reset_index()\n",
    "agg_df"
   ]
  }
 ],
 "metadata": {
  "kernelspec": {
   "display_name": "base",
   "language": "python",
   "name": "python3"
  },
  "language_info": {
   "codemirror_mode": {
    "name": "ipython",
    "version": 3
   },
   "file_extension": ".py",
   "mimetype": "text/x-python",
   "name": "python",
   "nbconvert_exporter": "python",
   "pygments_lexer": "ipython3",
   "version": "3.12.3"
  }
 },
 "nbformat": 4,
 "nbformat_minor": 2
}
